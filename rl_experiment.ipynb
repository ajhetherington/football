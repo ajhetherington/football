{
 "cells": [
  {
   "cell_type": "markdown",
   "id": "dcdd40c0-f1ce-4783-b2a8-008d0b07a7a6",
   "metadata": {},
   "source": [
    "# Rl Experiments"
   ]
  },
  {
   "cell_type": "markdown",
   "id": "074c77be-6d43-4773-a127-61db711b5a9d",
   "metadata": {},
   "source": [
    "Preliminary research shows that it seems that RlLib (build on 'ray', not to be confused with Ray the graphics driver for rust) has a decent offering. Keras-rl seemingly has had no updates in >4 years, & writing it all from scratch will take a long time.\n",
    "Other notable supported features are:\n",
    "* Multi-agent RL\n",
    "* Integration with gymnasium environments & **custom envs**\n",
    "* Integrates with pytorch / tensorflow\n",
    "* Many RL algorithms built in already\n",
    "\n"
   ]
  },
  {
   "cell_type": "markdown",
   "id": "19859a84-a59f-4cb6-a7bb-8e530b1ae326",
   "metadata": {},
   "source": [
    "Just a thought, it might be hard to get two multiagents in a single training run, if not possible then it might make best sense to start with an initial random policy, then have the Rl experi"
   ]
  }
 ],
 "metadata": {
  "kernelspec": {
   "display_name": "Python 3 (ipykernel)",
   "language": "python",
   "name": "python3"
  },
  "language_info": {
   "codemirror_mode": {
    "name": "ipython",
    "version": 3
   },
   "file_extension": ".py",
   "mimetype": "text/x-python",
   "name": "python",
   "nbconvert_exporter": "python",
   "pygments_lexer": "ipython3",
   "version": "3.8.10"
  }
 },
 "nbformat": 4,
 "nbformat_minor": 5
}
